{
 "cells": [
  {
   "cell_type": "code",
   "execution_count": 1,
   "metadata": {},
   "outputs": [],
   "source": [
    "import numpy as np\n",
    "import random\n",
    "import utils\n",
    "import BoW\n",
    "\n",
    "import pickle\n",
    "\n",
    "from sklearn.pipeline import make_pipeline\n",
    "from sklearn.preprocessing import StandardScaler\n",
    "from sklearn.svm import SVC, LinearSVC\n",
    "from sklearn.multiclass import OneVsRestClassifier\n",
    "\n",
    "%matplotlib inline\n",
    "%load_ext autoreload\n",
    "%autoreload 2"
   ]
  },
  {
   "cell_type": "code",
   "execution_count": 2,
   "metadata": {},
   "outputs": [],
   "source": [
    "# for reproducibility\n",
    "random.seed(1)\n",
    "np.random.seed(1)"
   ]
  },
  {
   "cell_type": "markdown",
   "metadata": {},
   "source": [
    "## Set the parameters"
   ]
  },
  {
   "cell_type": "code",
   "execution_count": 3,
   "metadata": {},
   "outputs": [],
   "source": [
    "step_size = 0\n",
    "patch_size = 0\n",
    "dim = 1024\n",
    "num_kmeans_samples = 20000\n",
    "train_number = 15\n",
    "caltech_repo = \"./256_ObjectCategories/\""
   ]
  },
  {
   "cell_type": "markdown",
   "metadata": {},
   "source": [
    "# Generate the codebook and initialize the feature function"
   ]
  },
  {
   "cell_type": "code",
   "execution_count": 4,
   "metadata": {},
   "outputs": [],
   "source": [
    "bag_of_words_dataset = utils.Dataset_old(caltech_repo, drop_rate = 0.9)\n",
    "kmeans_model = BoW.generate_kmeans_model(bag_of_words_dataset.get_data_X(), \n",
    "                   dim, patch_size, step_size, num_kmeans_samples)\n",
    "feature_func = lambda x: BoW.feature_function_model_unfeeded(\n",
    "                                x, dim, step_size, patch_size, kmeans_model)"
   ]
  },
  {
   "cell_type": "markdown",
   "metadata": {},
   "source": [
    "## Load the dataset"
   ]
  },
  {
   "cell_type": "code",
   "execution_count": null,
   "metadata": {},
   "outputs": [
    {
     "name": "stdout",
     "output_type": "stream",
     "text": [
      "001.ak47 is loaded.\n",
      "002.american-flag is loaded.\n",
      "003.backpack is loaded.\n",
      "004.baseball-bat is loaded.\n",
      "005.baseball-glove is loaded.\n",
      "006.basketball-hoop is loaded.\n",
      "007.bat is loaded.\n",
      "008.bathtub is loaded.\n",
      "009.bear is loaded.\n",
      "010.beer-mug is loaded.\n",
      "011.billiards is loaded.\n",
      "012.binoculars is loaded.\n",
      "013.birdbath is loaded.\n",
      "014.blimp is loaded.\n",
      "015.bonsai-101 is loaded.\n",
      "016.boom-box is loaded.\n",
      "017.bowling-ball is loaded.\n",
      "018.bowling-pin is loaded.\n",
      "019.boxing-glove is loaded.\n",
      "020.brain-101 is loaded.\n",
      "021.breadmaker is loaded.\n",
      "022.buddha-101 is loaded.\n",
      "023.bulldozer is loaded.\n",
      "024.butterfly is loaded.\n",
      "025.cactus is loaded.\n",
      "026.cake is loaded.\n",
      "027.calculator is loaded.\n",
      "028.camel is loaded.\n",
      "029.cannon is loaded.\n",
      "030.canoe is loaded.\n",
      "031.car-tire is loaded.\n",
      "032.cartman is loaded.\n",
      "033.cd is loaded.\n",
      "034.centipede is loaded.\n",
      "035.cereal-box is loaded.\n",
      "036.chandelier-101 is loaded.\n",
      "037.chess-board is loaded.\n",
      "038.chimp is loaded.\n",
      "039.chopsticks is loaded.\n",
      "040.cockroach is loaded.\n",
      "041.coffee-mug is loaded.\n",
      "042.coffin is loaded.\n",
      "043.coin is loaded.\n",
      "044.comet is loaded.\n",
      "045.computer-keyboard is loaded.\n",
      "046.computer-monitor is loaded.\n",
      "047.computer-mouse is loaded.\n",
      "048.conch is loaded.\n",
      "049.cormorant is loaded.\n"
     ]
    }
   ],
   "source": [
    "# BoW_dataset = utils.Dataset(caltech_repo, \n",
    "#                    feature_function = feature_func)\n",
    "# BoW_dataset.generate_train_test_samples()\n",
    "\n",
    "SPM_dataset = utils.Dataset(caltech_repo, pyramid = 2,\n",
    "                    samples = 40, feature_function = feature_func, verbose = True)\n",
    "SPM_dataset.generate_train_test_samples(30)"
   ]
  },
  {
   "cell_type": "markdown",
   "metadata": {},
   "source": [
    "## Initialize the classifiers"
   ]
  },
  {
   "cell_type": "code",
   "execution_count": null,
   "metadata": {},
   "outputs": [],
   "source": [
    "C = 0.0005\n",
    "gamma = 1/dim"
   ]
  },
  {
   "cell_type": "code",
   "execution_count": null,
   "metadata": {},
   "outputs": [],
   "source": [
    "scaler = StandardScaler()\n",
    "\n",
    "RBF_SVC = SVC(kernel='rbf', C=C, gamma = gamma)\n",
    "Linear_SVC = SVC(kernel='linear', C=C)\n",
    "HIV_SVC = utils.HistIntersectionModel(C=C)"
   ]
  },
  {
   "cell_type": "markdown",
   "metadata": {},
   "source": [
    "## Choose the dataset and model"
   ]
  },
  {
   "cell_type": "code",
   "execution_count": null,
   "metadata": {},
   "outputs": [],
   "source": [
    "dataset = SPM_dataset\n",
    "model = Linear_SVC"
   ]
  },
  {
   "cell_type": "markdown",
   "metadata": {},
   "source": [
    "## Train on the dataset and model"
   ]
  },
  {
   "cell_type": "code",
   "execution_count": null,
   "metadata": {},
   "outputs": [],
   "source": [
    "training_acc = data_set.train(scaler, model, training_number, accuracy = False)\n",
    "validation_acc = data_set.test(scaler, model)"
   ]
  },
  {
   "cell_type": "markdown",
   "metadata": {},
   "source": [
    "## Test the trained model"
   ]
  },
  {
   "cell_type": "code",
   "execution_count": null,
   "metadata": {},
   "outputs": [],
   "source": [
    "test_acc = data_set.train(scaler, model, validation = False)"
   ]
  },
  {
   "cell_type": "markdown",
   "metadata": {},
   "source": [
    "## Random Search"
   ]
  },
  {
   "cell_type": "code",
   "execution_count": null,
   "metadata": {},
   "outputs": [],
   "source": [
    "record = {}\n",
    "\n",
    "Cs = np.pow(np.random.uniform(-1, 1, 10), 10)\n",
    "gammas = np.pow(np.random.uniform(-5, -3, 10), 10)\n",
    "\n",
    "for C, gamma in zip(Cs, gammas):\n",
    "    RBF_SVC = SVC(kernel='rbf', C=C, gamma = gamma)\n",
    "    training_acc = data_set.train(scaler, model, training_number)\n",
    "    validation_acc = data_set.test(scaler, model)\n",
    "    \n",
    "    record[(C, gamma)] = (training_acc, validation_acc)"
   ]
  }
 ],
 "metadata": {
  "kernelspec": {
   "display_name": "Python 3.7.4 64-bit ('base': conda)",
   "language": "python",
   "name": "python37464bitbaseconda3e879a01d331491c87eff9c666fa0563"
  },
  "language_info": {
   "codemirror_mode": {
    "name": "ipython",
    "version": 3
   },
   "file_extension": ".py",
   "mimetype": "text/x-python",
   "name": "python",
   "nbconvert_exporter": "python",
   "pygments_lexer": "ipython3",
   "version": "3.7.4"
  }
 },
 "nbformat": 4,
 "nbformat_minor": 4
}
