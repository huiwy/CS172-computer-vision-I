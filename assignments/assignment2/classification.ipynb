{
 "cells": [
  {
   "cell_type": "code",
   "execution_count": 1,
   "metadata": {},
   "outputs": [],
   "source": [
    "import numpy as np\n",
    "import random\n",
    "import utils\n",
    "import BoW\n",
    "\n",
    "import pickle\n",
    "\n",
    "from sklearn.pipeline import make_pipeline\n",
    "from sklearn.preprocessing import StandardScaler\n",
    "from sklearn.svm import SVC, LinearSVC\n",
    "from sklearn.multiclass import OneVsRestClassifier\n",
    "\n",
    "%matplotlib inline\n",
    "%load_ext autoreload\n",
    "%autoreload 2"
   ]
  },
  {
   "cell_type": "code",
   "execution_count": 2,
   "metadata": {},
   "outputs": [],
   "source": [
    "# for reproducibility\n",
    "random.seed(1)\n",
    "np.random.seed(1)"
   ]
  },
  {
   "cell_type": "markdown",
   "metadata": {},
   "source": [
    "## Set the parameters"
   ]
  },
  {
   "cell_type": "code",
   "execution_count": 3,
   "metadata": {},
   "outputs": [],
   "source": [
    "step_size = 0\n",
    "patch_size = 0\n",
    "dim = 1024\n",
    "num_kmeans_samples = 20000\n",
    "train_number = 15\n",
    "caltech_repo = \"./256_ObjectCategories/\""
   ]
  },
  {
   "cell_type": "markdown",
   "metadata": {},
   "source": [
    "# Generate the codebook and initialize the feature function"
   ]
  },
  {
   "cell_type": "code",
   "execution_count": 4,
   "metadata": {},
   "outputs": [],
   "source": [
    "bag_of_words_dataset = utils.Dataset_old(caltech_repo, drop_rate = 0.9)\n",
    "kmeans_model = BoW.generate_kmeans_model(bag_of_words_dataset.get_data_X(), \n",
    "                   dim, patch_size, step_size, num_kmeans_samples)\n",
    "feature_func = lambda x: BoW.feature_function_model_unfeeded(\n",
    "                                x, dim, step_size, patch_size, kmeans_model)"
   ]
  },
  {
   "cell_type": "markdown",
   "metadata": {},
   "source": [
    "## Load the dataset"
   ]
  },
  {
   "cell_type": "code",
   "execution_count": 5,
   "metadata": {
    "collapsed": true,
    "jupyter": {
     "outputs_hidden": true
    }
   },
   "outputs": [
    {
     "name": "stdout",
     "output_type": "stream",
     "text": [
      "001.ak47 is loaded.\n",
      "002.american-flag is loaded.\n",
      "003.backpack is loaded.\n",
      "004.baseball-bat is loaded.\n",
      "005.baseball-glove is loaded.\n",
      "006.basketball-hoop is loaded.\n",
      "007.bat is loaded.\n",
      "008.bathtub is loaded.\n",
      "009.bear is loaded.\n",
      "010.beer-mug is loaded.\n",
      "011.billiards is loaded.\n",
      "012.binoculars is loaded.\n",
      "013.birdbath is loaded.\n",
      "014.blimp is loaded.\n",
      "015.bonsai-101 is loaded.\n",
      "016.boom-box is loaded.\n",
      "017.bowling-ball is loaded.\n",
      "018.bowling-pin is loaded.\n",
      "019.boxing-glove is loaded.\n",
      "020.brain-101 is loaded.\n",
      "021.breadmaker is loaded.\n",
      "022.buddha-101 is loaded.\n",
      "023.bulldozer is loaded.\n",
      "024.butterfly is loaded.\n",
      "025.cactus is loaded.\n",
      "026.cake is loaded.\n",
      "027.calculator is loaded.\n",
      "028.camel is loaded.\n",
      "029.cannon is loaded.\n",
      "030.canoe is loaded.\n",
      "031.car-tire is loaded.\n",
      "032.cartman is loaded.\n",
      "033.cd is loaded.\n",
      "034.centipede is loaded.\n",
      "035.cereal-box is loaded.\n",
      "036.chandelier-101 is loaded.\n",
      "037.chess-board is loaded.\n",
      "038.chimp is loaded.\n",
      "039.chopsticks is loaded.\n",
      "040.cockroach is loaded.\n",
      "041.coffee-mug is loaded.\n",
      "042.coffin is loaded.\n",
      "043.coin is loaded.\n",
      "044.comet is loaded.\n",
      "045.computer-keyboard is loaded.\n",
      "046.computer-monitor is loaded.\n",
      "047.computer-mouse is loaded.\n",
      "048.conch is loaded.\n",
      "049.cormorant is loaded.\n",
      "050.covered-wagon is loaded.\n",
      "051.cowboy-hat is loaded.\n",
      "052.crab-101 is loaded.\n",
      "053.desk-globe is loaded.\n",
      "054.diamond-ring is loaded.\n",
      "055.dice is loaded.\n",
      "056.dog is loaded.\n",
      "057.dolphin-101 is loaded.\n",
      "058.doorknob is loaded.\n",
      "059.drinking-straw is loaded.\n",
      "060.duck is loaded.\n",
      "061.dumb-bell is loaded.\n",
      "062.eiffel-tower is loaded.\n",
      "063.electric-guitar-101 is loaded.\n",
      "064.elephant-101 is loaded.\n",
      "065.elk is loaded.\n",
      "066.ewer-101 is loaded.\n",
      "067.eyeglasses is loaded.\n",
      "068.fern is loaded.\n",
      "069.fighter-jet is loaded.\n",
      "070.fire-extinguisher is loaded.\n",
      "071.fire-hydrant is loaded.\n",
      "072.fire-truck is loaded.\n",
      "073.fireworks is loaded.\n",
      "074.flashlight is loaded.\n",
      "075.floppy-disk is loaded.\n",
      "076.football-helmet is loaded.\n",
      "077.french-horn is loaded.\n",
      "078.fried-egg is loaded.\n",
      "079.frisbee is loaded.\n",
      "080.frog is loaded.\n",
      "081.frying-pan is loaded.\n",
      "082.galaxy is loaded.\n",
      "083.gas-pump is loaded.\n",
      "084.giraffe is loaded.\n",
      "085.goat is loaded.\n",
      "086.golden-gate-bridge is loaded.\n",
      "087.goldfish is loaded.\n",
      "088.golf-ball is loaded.\n",
      "089.goose is loaded.\n",
      "090.gorilla is loaded.\n",
      "091.grand-piano-101 is loaded.\n",
      "092.grapes is loaded.\n",
      "093.grasshopper is loaded.\n",
      "094.guitar-pick is loaded.\n",
      "095.hamburger is loaded.\n",
      "096.hammock is loaded.\n",
      "097.harmonica is loaded.\n",
      "098.harp is loaded.\n",
      "099.harpsichord is loaded.\n",
      "100.hawksbill-101 is loaded.\n",
      "101.head-phones is loaded.\n",
      "102.helicopter-101 is loaded.\n",
      "103.hibiscus is loaded.\n",
      "104.homer-simpson is loaded.\n",
      "105.horse is loaded.\n",
      "106.horseshoe-crab is loaded.\n",
      "107.hot-air-balloon is loaded.\n",
      "108.hot-dog is loaded.\n",
      "109.hot-tub is loaded.\n",
      "110.hourglass is loaded.\n",
      "111.house-fly is loaded.\n",
      "112.human-skeleton is loaded.\n",
      "113.hummingbird is loaded.\n",
      "114.ibis-101 is loaded.\n",
      "115.ice-cream-cone is loaded.\n",
      "116.iguana is loaded.\n",
      "117.ipod is loaded.\n",
      "118.iris is loaded.\n",
      "119.jesus-christ is loaded.\n",
      "120.joy-stick is loaded.\n",
      "121.kangaroo-101 is loaded.\n",
      "122.kayak is loaded.\n",
      "123.ketch-101 is loaded.\n",
      "124.killer-whale is loaded.\n",
      "125.knife is loaded.\n",
      "126.ladder is loaded.\n",
      "127.laptop-101 is loaded.\n",
      "128.lathe is loaded.\n",
      "129.leopards-101 is loaded.\n",
      "130.license-plate is loaded.\n",
      "131.lightbulb is loaded.\n",
      "132.light-house is loaded.\n",
      "133.lightning is loaded.\n",
      "134.llama-101 is loaded.\n",
      "135.mailbox is loaded.\n",
      "136.mandolin is loaded.\n",
      "137.mars is loaded.\n",
      "138.mattress is loaded.\n",
      "139.megaphone is loaded.\n",
      "140.menorah-101 is loaded.\n",
      "141.microscope is loaded.\n",
      "142.microwave is loaded.\n",
      "143.minaret is loaded.\n",
      "144.minotaur is loaded.\n",
      "145.motorbikes-101 is loaded.\n",
      "146.mountain-bike is loaded.\n",
      "147.mushroom is loaded.\n",
      "148.mussels is loaded.\n",
      "149.necktie is loaded.\n",
      "150.octopus is loaded.\n",
      "151.ostrich is loaded.\n",
      "152.owl is loaded.\n",
      "153.palm-pilot is loaded.\n",
      "154.palm-tree is loaded.\n",
      "155.paperclip is loaded.\n",
      "156.paper-shredder is loaded.\n",
      "157.pci-card is loaded.\n",
      "158.penguin is loaded.\n",
      "159.people is loaded.\n",
      "160.pez-dispenser is loaded.\n",
      "161.photocopier is loaded.\n",
      "162.picnic-table is loaded.\n",
      "163.playing-card is loaded.\n",
      "164.porcupine is loaded.\n",
      "165.pram is loaded.\n",
      "166.praying-mantis is loaded.\n",
      "167.pyramid is loaded.\n",
      "168.raccoon is loaded.\n",
      "169.radio-telescope is loaded.\n",
      "170.rainbow is loaded.\n",
      "171.refrigerator is loaded.\n",
      "172.revolver-101 is loaded.\n",
      "173.rifle is loaded.\n",
      "174.rotary-phone is loaded.\n",
      "175.roulette-wheel is loaded.\n",
      "176.saddle is loaded.\n",
      "177.saturn is loaded.\n",
      "178.school-bus is loaded.\n",
      "179.scorpion-101 is loaded.\n",
      "180.screwdriver is loaded.\n",
      "181.segway is loaded.\n",
      "182.self-propelled-lawn-mower is loaded.\n",
      "183.sextant is loaded.\n",
      "184.sheet-music is loaded.\n",
      "185.skateboard is loaded.\n",
      "186.skunk is loaded.\n",
      "187.skyscraper is loaded.\n",
      "188.smokestack is loaded.\n",
      "189.snail is loaded.\n",
      "190.snake is loaded.\n",
      "191.sneaker is loaded.\n",
      "192.snowmobile is loaded.\n",
      "193.soccer-ball is loaded.\n",
      "194.socks is loaded.\n",
      "195.soda-can is loaded.\n",
      "196.spaghetti is loaded.\n",
      "197.speed-boat is loaded.\n",
      "198.spider is loaded.\n",
      "199.spoon is loaded.\n",
      "200.stained-glass is loaded.\n",
      "201.starfish-101 is loaded.\n",
      "202.steering-wheel is loaded.\n",
      "203.stirrups is loaded.\n",
      "204.sunflower-101 is loaded.\n",
      "205.superman is loaded.\n",
      "206.sushi is loaded.\n",
      "207.swan is loaded.\n",
      "208.swiss-army-knife is loaded.\n",
      "209.sword is loaded.\n",
      "210.syringe is loaded.\n",
      "211.tambourine is loaded.\n",
      "212.teapot is loaded.\n",
      "213.teddy-bear is loaded.\n",
      "214.teepee is loaded.\n",
      "215.telephone-box is loaded.\n",
      "216.tennis-ball is loaded.\n",
      "217.tennis-court is loaded.\n",
      "218.tennis-racket is loaded.\n",
      "219.theodolite is loaded.\n",
      "220.toaster is loaded.\n",
      "221.tomato is loaded.\n",
      "222.tombstone is loaded.\n",
      "223.top-hat is loaded.\n",
      "224.touring-bike is loaded.\n",
      "225.tower-pisa is loaded.\n",
      "226.traffic-light is loaded.\n",
      "227.treadmill is loaded.\n",
      "228.triceratops is loaded.\n",
      "229.tricycle is loaded.\n",
      "230.trilobite-101 is loaded.\n",
      "231.tripod is loaded.\n",
      "232.t-shirt is loaded.\n",
      "233.tuning-fork is loaded.\n",
      "234.tweezer is loaded.\n",
      "235.umbrella-101 is loaded.\n",
      "236.unicorn is loaded.\n",
      "237.vcr is loaded.\n",
      "238.video-projector is loaded.\n",
      "239.washing-machine is loaded.\n",
      "240.watch-101 is loaded.\n",
      "241.waterfall is loaded.\n",
      "242.watermelon is loaded.\n",
      "243.welding-mask is loaded.\n",
      "244.wheelbarrow is loaded.\n",
      "245.windmill is loaded.\n",
      "246.wine-bottle is loaded.\n",
      "247.xylophone is loaded.\n",
      "248.yarmulke is loaded.\n",
      "249.yo-yo is loaded.\n",
      "250.zebra is loaded.\n",
      "251.airplanes-101 is loaded.\n",
      "252.car-side-101 is loaded.\n",
      "253.faces-easy-101 is loaded.\n",
      "254.greyhound is loaded.\n",
      "255.tennis-shoes is loaded.\n",
      "256.toad is loaded.\n",
      "257.clutter is loaded.\n"
     ]
    }
   ],
   "source": [
    "# BoW_dataset = utils.Dataset(caltech_repo, \n",
    "#                    feature_function = feature_func)\n",
    "# BoW_dataset.generate_train_test_samples()\n",
    "\n",
    "SPM_dataset = utils.Dataset(caltech_repo, pyramid = 2,\n",
    "                    samples = 40, feature_function = feature_func, verbose = True)\n",
    "SPM_dataset.generate_train_test_samples(30)"
   ]
  },
  {
   "cell_type": "markdown",
   "metadata": {},
   "source": [
    "## Initialize the classifiers"
   ]
  },
  {
   "cell_type": "code",
   "execution_count": 6,
   "metadata": {},
   "outputs": [],
   "source": [
    "C = 0.0005\n",
    "gamma = 1/dim"
   ]
  },
  {
   "cell_type": "code",
   "execution_count": 7,
   "metadata": {},
   "outputs": [],
   "source": [
    "scaler = StandardScaler()\n",
    "\n",
    "RBF_SVC = SVC(kernel='rbf', C=C, gamma = gamma)\n",
    "Linear_SVC = SVC(kernel='linear', C=C)\n",
    "HIV_SVC = utils.HistIntersectionModel(C=C)"
   ]
  },
  {
   "cell_type": "markdown",
   "metadata": {},
   "source": [
    "## Choose the dataset and model"
   ]
  },
  {
   "cell_type": "code",
   "execution_count": 8,
   "metadata": {},
   "outputs": [],
   "source": [
    "dataset = SPM_dataset\n",
    "model = Linear_SVC"
   ]
  },
  {
   "cell_type": "markdown",
   "metadata": {},
   "source": [
    "## Train on the dataset and model"
   ]
  },
  {
   "cell_type": "code",
   "execution_count": 14,
   "metadata": {},
   "outputs": [],
   "source": [
    "training_acc = dataset.train(model, scaler, training_number = 30, accuracy = False)\n",
    "validation_acc = dataset.test(model, scaler)"
   ]
  },
  {
   "cell_type": "markdown",
   "metadata": {},
   "source": [
    "## Test the trained model"
   ]
  },
  {
   "cell_type": "code",
   "execution_count": 15,
   "metadata": {},
   "outputs": [],
   "source": [
    "test_acc = dataset.test(model, scaler, validation = False)"
   ]
  },
  {
   "cell_type": "code",
   "execution_count": 17,
   "metadata": {},
   "outputs": [
    {
     "data": {
      "text/plain": [
       "0.11971830985915492"
      ]
     },
     "execution_count": 17,
     "metadata": {},
     "output_type": "execute_result"
    }
   ],
   "source": [
    "validation_acc"
   ]
  },
  {
   "cell_type": "markdown",
   "metadata": {},
   "source": [
    "## Random Search"
   ]
  },
  {
   "cell_type": "code",
   "execution_count": null,
   "metadata": {},
   "outputs": [],
   "source": [
    "record = {}\n",
    "\n",
    "Cs = np.pow(np.random.uniform(-1, 1, 10), 10)\n",
    "gammas = np.pow(np.random.uniform(-5, -3, 10), 10)\n",
    "\n",
    "for C, gamma in zip(Cs, gammas):\n",
    "    RBF_SVC = SVC(kernel='rbf', C=C, gamma = gamma)\n",
    "    training_acc = data_set.train(scaler, model, training_number)\n",
    "    validation_acc = data_set.test(scaler, model)\n",
    "    \n",
    "    record[(C, gamma)] = (training_acc, validation_acc)"
   ]
  }
 ],
 "metadata": {
  "kernelspec": {
   "display_name": "Python 3.7.4 64-bit ('base': conda)",
   "language": "python",
   "name": "python37464bitbaseconda3e879a01d331491c87eff9c666fa0563"
  },
  "language_info": {
   "codemirror_mode": {
    "name": "ipython",
    "version": 3
   },
   "file_extension": ".py",
   "mimetype": "text/x-python",
   "name": "python",
   "nbconvert_exporter": "python",
   "pygments_lexer": "ipython3",
   "version": "3.7.4"
  }
 },
 "nbformat": 4,
 "nbformat_minor": 4
}
